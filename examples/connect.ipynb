{
 "cells": [
  {
   "cell_type": "markdown",
   "metadata": {},
   "source": []
  },
  {
   "cell_type": "code",
   "execution_count": 1,
   "metadata": {},
   "outputs": [],
   "source": [
    "# run this if you want to run the example from the examples folder without installing the package\n",
    "import sys\n",
    "sys.path.insert(0, \"../\")"
   ]
  },
  {
   "cell_type": "code",
   "execution_count": 2,
   "metadata": {},
   "outputs": [],
   "source": [
    "import grpc\n",
    "from osmosis_proto.proto.cosmos.bank.v1beta1.query_pb2 import QueryBalanceRequest"
   ]
  },
  {
   "cell_type": "code",
   "execution_count": 5,
   "metadata": {},
   "outputs": [
    {
     "name": "stderr",
     "output_type": "stream",
     "text": [
      "E0324 13:09:12.838603582   15851 ssl_transport_security.cc:1501]       Handshake failed with fatal error SSL_ERROR_SSL: error:100000f7:SSL routines:OPENSSL_internal:WRONG_VERSION_NUMBER.\n"
     ]
    },
    {
     "ename": "_InactiveRpcError",
     "evalue": "<_InactiveRpcError of RPC that terminated with:\n\tstatus = StatusCode.UNAVAILABLE\n\tdetails = \"failed to connect to all addresses; last error: UNKNOWN: ipv6:%5B64:ff9b::8fc6:8b21%5D:443: Network is unreachable\"\n\tdebug_error_string = \"UNKNOWN:failed to connect to all addresses; last error: UNKNOWN: ipv6:%5B64:ff9b::8fc6:8b21%5D:443: Network is unreachable {grpc_status:14, created_time:\"2023-03-24T13:09:12.839171595+01:00\"}\"\n>",
     "output_type": "error",
     "traceback": [
      "\u001b[0;31m---------------------------------------------------------------------------\u001b[0m",
      "\u001b[0;31m_InactiveRpcError\u001b[0m                         Traceback (most recent call last)",
      "Cell \u001b[0;32mIn[5], line 12\u001b[0m\n\u001b[1;32m      9\u001b[0m req \u001b[39m=\u001b[39m QueryBalanceRequest(address\u001b[39m=\u001b[39m\u001b[39m\"\u001b[39m\u001b[39mosmo1fl48vsnmsdzcv85q5d2q4z5ajdha8yu3aq6l09\u001b[39m\u001b[39m\"\u001b[39m)\n\u001b[1;32m     11\u001b[0m \u001b[39m# send request\u001b[39;00m\n\u001b[0;32m---> 12\u001b[0m resp \u001b[39m=\u001b[39m channel\u001b[39m.\u001b[39;49munary_unary(\u001b[39m\"\u001b[39;49m\u001b[39m/cosmos.bank.v1beta1.Query/Balance\u001b[39;49m\u001b[39m\"\u001b[39;49m)(req\u001b[39m.\u001b[39;49mSerializeToString())\n\u001b[1;32m     14\u001b[0m channel\u001b[39m.\u001b[39mclose()\n",
      "File \u001b[0;32m~/projects/work/osmosis-pysdk/.venv/lib/python3.11/site-packages/grpc/_channel.py:946\u001b[0m, in \u001b[0;36m_UnaryUnaryMultiCallable.__call__\u001b[0;34m(self, request, timeout, metadata, credentials, wait_for_ready, compression)\u001b[0m\n\u001b[1;32m    937\u001b[0m \u001b[39mdef\u001b[39;00m \u001b[39m__call__\u001b[39m(\u001b[39mself\u001b[39m,\n\u001b[1;32m    938\u001b[0m              request,\n\u001b[1;32m    939\u001b[0m              timeout\u001b[39m=\u001b[39m\u001b[39mNone\u001b[39;00m,\n\u001b[0;32m   (...)\u001b[0m\n\u001b[1;32m    942\u001b[0m              wait_for_ready\u001b[39m=\u001b[39m\u001b[39mNone\u001b[39;00m,\n\u001b[1;32m    943\u001b[0m              compression\u001b[39m=\u001b[39m\u001b[39mNone\u001b[39;00m):\n\u001b[1;32m    944\u001b[0m     state, call, \u001b[39m=\u001b[39m \u001b[39mself\u001b[39m\u001b[39m.\u001b[39m_blocking(request, timeout, metadata, credentials,\n\u001b[1;32m    945\u001b[0m                                   wait_for_ready, compression)\n\u001b[0;32m--> 946\u001b[0m     \u001b[39mreturn\u001b[39;00m _end_unary_response_blocking(state, call, \u001b[39mFalse\u001b[39;49;00m, \u001b[39mNone\u001b[39;49;00m)\n",
      "File \u001b[0;32m~/projects/work/osmosis-pysdk/.venv/lib/python3.11/site-packages/grpc/_channel.py:849\u001b[0m, in \u001b[0;36m_end_unary_response_blocking\u001b[0;34m(state, call, with_call, deadline)\u001b[0m\n\u001b[1;32m    847\u001b[0m         \u001b[39mreturn\u001b[39;00m state\u001b[39m.\u001b[39mresponse\n\u001b[1;32m    848\u001b[0m \u001b[39melse\u001b[39;00m:\n\u001b[0;32m--> 849\u001b[0m     \u001b[39mraise\u001b[39;00m _InactiveRpcError(state)\n",
      "\u001b[0;31m_InactiveRpcError\u001b[0m: <_InactiveRpcError of RPC that terminated with:\n\tstatus = StatusCode.UNAVAILABLE\n\tdetails = \"failed to connect to all addresses; last error: UNKNOWN: ipv6:%5B64:ff9b::8fc6:8b21%5D:443: Network is unreachable\"\n\tdebug_error_string = \"UNKNOWN:failed to connect to all addresses; last error: UNKNOWN: ipv6:%5B64:ff9b::8fc6:8b21%5D:443: Network is unreachable {grpc_status:14, created_time:\"2023-03-24T13:09:12.839171595+01:00\"}\"\n>"
     ]
    },
    {
     "name": "stderr",
     "output_type": "stream",
     "text": [
      "E0324 13:09:22.167346907   15872 ssl_transport_security.cc:1501]       Handshake failed with fatal error SSL_ERROR_SSL: error:100000f7:SSL routines:OPENSSL_internal:WRONG_VERSION_NUMBER.\n",
      "E0324 13:09:32.167523383   15906 ssl_transport_security.cc:1501]       Handshake failed with fatal error SSL_ERROR_SSL: error:100000f7:SSL routines:OPENSSL_internal:WRONG_VERSION_NUMBER.\n",
      "E0324 13:09:42.167512389   15906 ssl_transport_security.cc:1501]       Handshake failed with fatal error SSL_ERROR_SSL: error:100000f7:SSL routines:OPENSSL_internal:WRONG_VERSION_NUMBER.\n",
      "E0324 13:09:52.167489266   15872 ssl_transport_security.cc:1501]       Handshake failed with fatal error SSL_ERROR_SSL: error:100000f7:SSL routines:OPENSSL_internal:WRONG_VERSION_NUMBER.\n",
      "E0324 13:10:02.167510356   15872 ssl_transport_security.cc:1501]       Handshake failed with fatal error SSL_ERROR_SSL: error:100000f7:SSL routines:OPENSSL_internal:WRONG_VERSION_NUMBER.\n",
      "E0324 13:10:12.167700509   15906 ssl_transport_security.cc:1501]       Handshake failed with fatal error SSL_ERROR_SSL: error:100000f7:SSL routines:OPENSSL_internal:WRONG_VERSION_NUMBER.\n",
      "E0324 13:10:32.167510675   15906 ssl_transport_security.cc:1501]       Handshake failed with fatal error SSL_ERROR_SSL: error:100000f7:SSL routines:OPENSSL_internal:WRONG_VERSION_NUMBER.\n",
      "E0324 13:10:52.167613719   15872 ssl_transport_security.cc:1501]       Handshake failed with fatal error SSL_ERROR_SSL: error:100000f7:SSL routines:OPENSSL_internal:WRONG_VERSION_NUMBER.\n",
      "E0324 13:11:37.167553956   15906 ssl_transport_security.cc:1501]       Handshake failed with fatal error SSL_ERROR_SSL: error:100000f7:SSL routines:OPENSSL_internal:WRONG_VERSION_NUMBER.\n",
      "E0324 13:13:02.167552481   15872 ssl_transport_security.cc:1501]       Handshake failed with fatal error SSL_ERROR_SSL: error:100000f7:SSL routines:OPENSSL_internal:WRONG_VERSION_NUMBER.\n",
      "E0324 13:14:37.167555622   15872 ssl_transport_security.cc:1501]       Handshake failed with fatal error SSL_ERROR_SSL: error:100000f7:SSL routines:OPENSSL_internal:WRONG_VERSION_NUMBER.\n",
      "E0324 13:16:42.167428497   15872 ssl_transport_security.cc:1501]       Handshake failed with fatal error SSL_ERROR_SSL: error:100000f7:SSL routines:OPENSSL_internal:WRONG_VERSION_NUMBER.\n",
      "E0324 13:18:27.167348034   15872 ssl_transport_security.cc:1501]       Handshake failed with fatal error SSL_ERROR_SSL: error:100000f7:SSL routines:OPENSSL_internal:WRONG_VERSION_NUMBER.\n",
      "E0324 13:20:12.167418416   15906 ssl_transport_security.cc:1501]       Handshake failed with fatal error SSL_ERROR_SSL: error:100000f7:SSL routines:OPENSSL_internal:WRONG_VERSION_NUMBER.\n",
      "E0324 13:22:27.167569034   15906 ssl_transport_security.cc:1501]       Handshake failed with fatal error SSL_ERROR_SSL: error:100000f7:SSL routines:OPENSSL_internal:WRONG_VERSION_NUMBER.\n",
      "E0324 13:24:52.167502090   15872 ssl_transport_security.cc:1501]       Handshake failed with fatal error SSL_ERROR_SSL: error:100000f7:SSL routines:OPENSSL_internal:WRONG_VERSION_NUMBER.\n",
      "E0324 13:26:37.167415983   15872 ssl_transport_security.cc:1501]       Handshake failed with fatal error SSL_ERROR_SSL: error:100000f7:SSL routines:OPENSSL_internal:WRONG_VERSION_NUMBER.\n",
      "E0324 13:28:32.167450002   15872 ssl_transport_security.cc:1501]       Handshake failed with fatal error SSL_ERROR_SSL: error:100000f7:SSL routines:OPENSSL_internal:WRONG_VERSION_NUMBER.\n",
      "E0324 13:30:52.167526630   15872 ssl_transport_security.cc:1501]       Handshake failed with fatal error SSL_ERROR_SSL: error:100000f7:SSL routines:OPENSSL_internal:WRONG_VERSION_NUMBER.\n",
      "E0324 13:33:07.167679165   15872 ssl_transport_security.cc:1501]       Handshake failed with fatal error SSL_ERROR_SSL: error:100000f7:SSL routines:OPENSSL_internal:WRONG_VERSION_NUMBER.\n",
      "E0324 13:35:27.167523096   15906 ssl_transport_security.cc:1501]       Handshake failed with fatal error SSL_ERROR_SSL: error:100000f7:SSL routines:OPENSSL_internal:WRONG_VERSION_NUMBER.\n",
      "E0324 13:37:17.168454386   15906 ssl_transport_security.cc:1501]       Handshake failed with fatal error SSL_ERROR_SSL: error:100000f7:SSL routines:OPENSSL_internal:WRONG_VERSION_NUMBER.\n",
      "E0324 13:39:32.168364559   15906 ssl_transport_security.cc:1501]       Handshake failed with fatal error SSL_ERROR_SSL: error:100000f7:SSL routines:OPENSSL_internal:WRONG_VERSION_NUMBER.\n",
      "E0324 13:41:32.168494029   15872 ssl_transport_security.cc:1501]       Handshake failed with fatal error SSL_ERROR_SSL: error:100000f7:SSL routines:OPENSSL_internal:WRONG_VERSION_NUMBER.\n",
      "E0324 13:43:17.169625992   15906 ssl_transport_security.cc:1501]       Handshake failed with fatal error SSL_ERROR_SSL: error:100000f7:SSL routines:OPENSSL_internal:WRONG_VERSION_NUMBER.\n",
      "E0324 13:45:32.169362495   15906 ssl_transport_security.cc:1501]       Handshake failed with fatal error SSL_ERROR_SSL: error:100000f7:SSL routines:OPENSSL_internal:WRONG_VERSION_NUMBER.\n",
      "E0324 13:47:12.169499894   15872 ssl_transport_security.cc:1501]       Handshake failed with fatal error SSL_ERROR_SSL: error:100000f7:SSL routines:OPENSSL_internal:WRONG_VERSION_NUMBER.\n",
      "E0324 13:48:52.169435964   15906 ssl_transport_security.cc:1501]       Handshake failed with fatal error SSL_ERROR_SSL: error:100000f7:SSL routines:OPENSSL_internal:WRONG_VERSION_NUMBER.\n",
      "E0324 13:50:37.169499877   15872 ssl_transport_security.cc:1501]       Handshake failed with fatal error SSL_ERROR_SSL: error:100000f7:SSL routines:OPENSSL_internal:WRONG_VERSION_NUMBER.\n",
      "E0324 13:53:02.169527316   15906 ssl_transport_security.cc:1501]       Handshake failed with fatal error SSL_ERROR_SSL: error:100000f7:SSL routines:OPENSSL_internal:WRONG_VERSION_NUMBER.\n"
     ]
    }
   ],
   "source": [
    "# configure grpc channel\n",
    "\n",
    "ssl_creds = grpc.ssl_channel_credentials()\n",
    "grpc_endpoint = \"grpc-test.osmosis.zone:443\" # testnet\n",
    "\n",
    "channel = grpc.secure_channel(grpc_endpoint, ssl_creds)\n",
    "\n",
    "# prepare request\n",
    "req = QueryBalanceRequest(address=\"osmo1fl48vsnmsdzcv85q5d2q4z5ajdha8yu3aq6l09\")\n",
    "\n",
    "# send request\n",
    "resp = channel.unary_unary(\"/cosmos.bank.v1beta1.Query/Balance\")(req.SerializeToString())\n",
    "\n",
    "channel.close()"
   ]
  }
 ],
 "metadata": {
  "kernelspec": {
   "display_name": ".venv",
   "language": "python",
   "name": "python3"
  },
  "language_info": {
   "codemirror_mode": {
    "name": "ipython",
    "version": 3
   },
   "file_extension": ".py",
   "mimetype": "text/x-python",
   "name": "python",
   "nbconvert_exporter": "python",
   "pygments_lexer": "ipython3",
   "version": "3.11.2"
  },
  "orig_nbformat": 4
 },
 "nbformat": 4,
 "nbformat_minor": 2
}
