{
 "cells": [
  {
   "cell_type": "markdown",
   "metadata": {},
   "source": []
  },
  {
   "cell_type": "code",
   "execution_count": 1,
   "metadata": {},
   "outputs": [],
   "source": [
    "# run this if you want to run the example from the examples folder without installing the package\n",
    "import sys\n",
    "sys.path.insert(0, \"../\")"
   ]
  },
  {
   "cell_type": "code",
   "execution_count": 5,
   "metadata": {},
   "outputs": [],
   "source": [
    "# import the package\n",
    "from osmosispy.proto.osmosis.epochs import query_pb2_grpc"
   ]
  },
  {
   "cell_type": "code",
   "execution_count": 7,
   "metadata": {},
   "outputs": [
    {
     "data": {
      "text/plain": [
       "['DESCRIPTOR',\n",
       " 'QueryCurrentEpochRequest',\n",
       " 'QueryCurrentEpochResponse',\n",
       " 'QueryEpochsInfoRequest',\n",
       " 'QueryEpochsInfoResponse',\n",
       " '_QUERY',\n",
       " '_QUERYCURRENTEPOCHREQUEST',\n",
       " '_QUERYCURRENTEPOCHRESPONSE',\n",
       " '_QUERYEPOCHSINFOREQUEST',\n",
       " '_QUERYEPOCHSINFORESPONSE',\n",
       " '__builtins__',\n",
       " '__cached__',\n",
       " '__doc__',\n",
       " '__file__',\n",
       " '__loader__',\n",
       " '__name__',\n",
       " '__package__',\n",
       " '__spec__',\n",
       " '_builder',\n",
       " '_descriptor',\n",
       " '_descriptor_pool',\n",
       " '_sym_db',\n",
       " '_symbol_database',\n",
       " 'cosmos_dot_base_dot_query_dot_v1beta1_dot_pagination__pb2',\n",
       " 'gogoproto_dot_gogo__pb2',\n",
       " 'google_dot_api_dot_annotations__pb2',\n",
       " 'osmosis_dot_epochs_dot_genesis__pb2']"
      ]
     },
     "execution_count": 7,
     "metadata": {},
     "output_type": "execute_result"
    }
   ],
   "source": [
    "# check the version\n",
    "dir(query_pb2_grpc.QueryStub)"
   ]
  }
 ],
 "metadata": {
  "kernelspec": {
   "display_name": ".venv",
   "language": "python",
   "name": "python3"
  },
  "language_info": {
   "codemirror_mode": {
    "name": "ipython",
    "version": 3
   },
   "file_extension": ".py",
   "mimetype": "text/x-python",
   "name": "python",
   "nbconvert_exporter": "python",
   "pygments_lexer": "ipython3",
   "version": "3.11.2"
  },
  "orig_nbformat": 4
 },
 "nbformat": 4,
 "nbformat_minor": 2
}
