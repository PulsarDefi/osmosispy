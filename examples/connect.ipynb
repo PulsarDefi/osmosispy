{
 "cells": [
  {
   "cell_type": "code",
   "execution_count": 7,
   "metadata": {},
   "outputs": [],
   "source": [
    "# run this if you want to run the example from the examples folder without installing the package\n",
    "import sys\n",
    "sys.path.insert(0, \"../\")"
   ]
  },
  {
   "cell_type": "code",
   "execution_count": 8,
   "metadata": {},
   "outputs": [],
   "source": [
    "# import the package\n",
    "import osmosispy\n",
    "from osmosispy import utils"
   ]
  },
  {
   "cell_type": "code",
   "execution_count": 9,
   "metadata": {},
   "outputs": [],
   "source": [
    "# configure\n",
    "mnemonic_key = \"fat patch excite gold bubble large tunnel vote fine title hover junior advice cable ordinary column mass aunt trigger lucky hope animal abandon mansion\""
   ]
  },
  {
   "attachments": {},
   "cell_type": "markdown",
   "metadata": {},
   "source": [
    "## Prepare the account\n",
    "\n",
    "to start localnet clone the [osmosis-labs/osmosis](https://github.com/osmosis-labs/osmosis) repo and run the following command\n",
    "\n",
    "```bash\n",
    "make localnet-build\n",
    "make localnet-start\n",
    "```"
   ]
  },
  {
   "cell_type": "code",
   "execution_count": 10,
   "metadata": {},
   "outputs": [
    {
     "name": "stdout",
     "output_type": "stream",
     "text": [
      "osmo1jggt8pcj2d8m9n62luytf8sdncj5uxfs3su2my\n"
     ]
    }
   ],
   "source": [
    "# authorize in the localnet\n",
    "network = osmosispy.Network.localnet()\n",
    "trader = osmosispy.Sdk.authorize(key=mnemonic_key).with_network(network)\n",
    "\n",
    "# check the address\n",
    "print(trader.address)"
   ]
  },
  {
   "attachments": {},
   "cell_type": "markdown",
   "metadata": {},
   "source": [
    "## Check the balance of the account"
   ]
  },
  {
   "cell_type": "code",
   "execution_count": 11,
   "metadata": {},
   "outputs": [
    {
     "name": "stdout",
     "output_type": "stream",
     "text": [
      "[]\n"
     ]
    }
   ],
   "source": [
    "from osmosis_proto.proto.cosmos.bank.v1beta1 import query_pb2 as bank_query\n",
    "from osmosis_proto.proto.cosmos.bank.v1beta1 import query_pb2_grpc as bank_query_grpc\n",
    "\n",
    "# check the balance\n",
    "\n",
    "stubBank = bank_query_grpc.QueryStub(trader.query.chain_channel)\n",
    "\n",
    "result = utils.deserialize(\n",
    "    stubBank.AllBalances(\n",
    "        bank_query.QueryAllBalancesRequest(address=trader.address)\n",
    "    )\n",
    ")\n",
    "\n",
    "print(result[\"balances\"])\n"
   ]
  },
  {
   "attachments": {},
   "cell_type": "markdown",
   "metadata": {},
   "source": [
    "## Get pools"
   ]
  },
  {
   "cell_type": "code",
   "execution_count": 12,
   "metadata": {},
   "outputs": [
    {
     "name": "stdout",
     "output_type": "stream",
     "text": [
      "[]\n"
     ]
    }
   ],
   "source": [
    "from osmosis_proto.proto.osmosis.gamm.v1beta1 import query_pb2 as gamm_query\n",
    "from osmosis_proto.proto.osmosis.gamm.v1beta1 import query_pb2_grpc as gamm_query_grpc\n",
    "\n",
    "# get pools\n",
    "\n",
    "stubGamm = gamm_query_grpc.QueryStub(trader.query.chain_channel)\n",
    "\n",
    "result = utils.deserialize(\n",
    "    stubGamm.Pools(\n",
    "        gamm_query.QueryPoolsRequest()\n",
    "    )\n",
    ")\n",
    "\n",
    "print(result['pools'])\n"
   ]
  }
 ],
 "metadata": {
  "kernelspec": {
   "display_name": ".venv",
   "language": "python",
   "name": "python3"
  },
  "language_info": {
   "codemirror_mode": {
    "name": "ipython",
    "version": 3
   },
   "file_extension": ".py",
   "mimetype": "text/x-python",
   "name": "python",
   "nbconvert_exporter": "python",
   "pygments_lexer": "ipython3",
   "version": "3.11.2"
  },
  "orig_nbformat": 4
 },
 "nbformat": 4,
 "nbformat_minor": 2
}
