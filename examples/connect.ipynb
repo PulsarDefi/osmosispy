{
 "cells": [
  {
   "cell_type": "markdown",
   "metadata": {},
   "source": []
  },
  {
   "cell_type": "code",
   "execution_count": 1,
   "metadata": {},
   "outputs": [],
   "source": [
    "# run this if you want to run the example from the examples folder without installing the package\n",
    "import sys\n",
    "sys.path.insert(0, \"../\")"
   ]
  },
  {
   "cell_type": "code",
   "execution_count": 2,
   "metadata": {},
   "outputs": [],
   "source": [
    "import osmosispy"
   ]
  },
  {
   "cell_type": "code",
   "execution_count": 3,
   "metadata": {},
   "outputs": [],
   "source": [
    "# configure\n",
    "mnemonic_key = \"fat patch excite gold bubble large tunnel vote fine title hover junior advice cable ordinary column mass aunt trigger lucky hope animal abandon mansion\""
   ]
  },
  {
   "cell_type": "code",
   "execution_count": 4,
   "metadata": {},
   "outputs": [
    {
     "name": "stdout",
     "output_type": "stream",
     "text": [
      "osmo1jggt8pcj2d8m9n62luytf8sdncj5uxfs3su2my\n"
     ]
    }
   ],
   "source": [
    "# authorize in the testnet\n",
    "\n",
    "network = osmosispy.Network.testnet(4)\n",
    "\n",
    "trader = osmosispy.Sdk.authorize(key=mnemonic_key).with_network(network)\n",
    "\n",
    "print(trader.address)"
   ]
  },
  {
   "cell_type": "code",
   "execution_count": 10,
   "metadata": {},
   "outputs": [
    {
     "ename": "_InactiveRpcError",
     "evalue": "<_InactiveRpcError of RPC that terminated with:\n\tstatus = StatusCode.UNAVAILABLE\n\tdetails = \"DNS resolution failed for grpc.testnet-4.osmosis.zone :443: C-ares status is not ARES_SUCCESS qtype=A name=grpc.testnet-4.osmosis.zone  is_balancer=0: Domain name not found\"\n\tdebug_error_string = \"UNKNOWN:DNS resolution failed for grpc.testnet-4.osmosis.zone :443: C-ares status is not ARES_SUCCESS qtype=A name=grpc.testnet-4.osmosis.zone  is_balancer=0: Domain name not found {created_time:\"2023-03-24T16:06:55.570950627+01:00\", grpc_status:14}\"\n>",
     "output_type": "error",
     "traceback": [
      "\u001b[0;31m---------------------------------------------------------------------------\u001b[0m",
      "\u001b[0;31m_InactiveRpcError\u001b[0m                         Traceback (most recent call last)",
      "Cell \u001b[0;32mIn[10], line 9\u001b[0m\n\u001b[1;32m      4\u001b[0m \u001b[39mfrom\u001b[39;00m \u001b[39mosmosis_proto\u001b[39;00m\u001b[39m.\u001b[39;00m\u001b[39mproto\u001b[39;00m\u001b[39m.\u001b[39;00m\u001b[39mcosmos\u001b[39;00m\u001b[39m.\u001b[39;00m\u001b[39mbank\u001b[39;00m\u001b[39m.\u001b[39;00m\u001b[39mv1beta1\u001b[39;00m \u001b[39mimport\u001b[39;00m query_pb2 \u001b[39mas\u001b[39;00m bank_query\n\u001b[1;32m      6\u001b[0m stubBank \u001b[39m=\u001b[39m bank_query_grpc\u001b[39m.\u001b[39mQueryStub(trader\u001b[39m.\u001b[39mquery\u001b[39m.\u001b[39mchain_channel)\n\u001b[1;32m      8\u001b[0m utils\u001b[39m.\u001b[39mdeserialize(\n\u001b[0;32m----> 9\u001b[0m             stubBank\u001b[39m.\u001b[39;49mAllBalances(\n\u001b[1;32m     10\u001b[0m                 bank_query\u001b[39m.\u001b[39;49mQueryAllBalancesRequest(address\u001b[39m=\u001b[39;49mtrader\u001b[39m.\u001b[39;49maddress)\n\u001b[1;32m     11\u001b[0m             )\n\u001b[1;32m     12\u001b[0m         )\n",
      "File \u001b[0;32m~/projects/work/osmosis-pysdk/.venv/lib/python3.11/site-packages/grpc/_channel.py:946\u001b[0m, in \u001b[0;36m_UnaryUnaryMultiCallable.__call__\u001b[0;34m(self, request, timeout, metadata, credentials, wait_for_ready, compression)\u001b[0m\n\u001b[1;32m    937\u001b[0m \u001b[39mdef\u001b[39;00m \u001b[39m__call__\u001b[39m(\u001b[39mself\u001b[39m,\n\u001b[1;32m    938\u001b[0m              request,\n\u001b[1;32m    939\u001b[0m              timeout\u001b[39m=\u001b[39m\u001b[39mNone\u001b[39;00m,\n\u001b[0;32m   (...)\u001b[0m\n\u001b[1;32m    942\u001b[0m              wait_for_ready\u001b[39m=\u001b[39m\u001b[39mNone\u001b[39;00m,\n\u001b[1;32m    943\u001b[0m              compression\u001b[39m=\u001b[39m\u001b[39mNone\u001b[39;00m):\n\u001b[1;32m    944\u001b[0m     state, call, \u001b[39m=\u001b[39m \u001b[39mself\u001b[39m\u001b[39m.\u001b[39m_blocking(request, timeout, metadata, credentials,\n\u001b[1;32m    945\u001b[0m                                   wait_for_ready, compression)\n\u001b[0;32m--> 946\u001b[0m     \u001b[39mreturn\u001b[39;00m _end_unary_response_blocking(state, call, \u001b[39mFalse\u001b[39;49;00m, \u001b[39mNone\u001b[39;49;00m)\n",
      "File \u001b[0;32m~/projects/work/osmosis-pysdk/.venv/lib/python3.11/site-packages/grpc/_channel.py:849\u001b[0m, in \u001b[0;36m_end_unary_response_blocking\u001b[0;34m(state, call, with_call, deadline)\u001b[0m\n\u001b[1;32m    847\u001b[0m         \u001b[39mreturn\u001b[39;00m state\u001b[39m.\u001b[39mresponse\n\u001b[1;32m    848\u001b[0m \u001b[39melse\u001b[39;00m:\n\u001b[0;32m--> 849\u001b[0m     \u001b[39mraise\u001b[39;00m _InactiveRpcError(state)\n",
      "\u001b[0;31m_InactiveRpcError\u001b[0m: <_InactiveRpcError of RPC that terminated with:\n\tstatus = StatusCode.UNAVAILABLE\n\tdetails = \"DNS resolution failed for grpc.testnet-4.osmosis.zone :443: C-ares status is not ARES_SUCCESS qtype=A name=grpc.testnet-4.osmosis.zone  is_balancer=0: Domain name not found\"\n\tdebug_error_string = \"UNKNOWN:DNS resolution failed for grpc.testnet-4.osmosis.zone :443: C-ares status is not ARES_SUCCESS qtype=A name=grpc.testnet-4.osmosis.zone  is_balancer=0: Domain name not found {created_time:\"2023-03-24T16:06:55.570950627+01:00\", grpc_status:14}\"\n>"
     ]
    }
   ],
   "source": [
    "# check the balance\n",
    "# you can add tokens to your address here: https://faucet.osmosis.zone/#/\n",
    "from osmosispy import utils\n",
    "from osmosis_proto.proto.cosmos.bank.v1beta1 import query_pb2 as bank_query\n",
    "\n",
    "stubBank = bank_query_grpc.QueryStub(trader.query.chain_channel)\n",
    "\n",
    "utils.deserialize(\n",
    "            stubBank.AllBalances(\n",
    "                bank_query.QueryAllBalancesRequest(address=trader.address)\n",
    "            )\n",
    "        )\n"
   ]
  }
 ],
 "metadata": {
  "kernelspec": {
   "display_name": ".venv",
   "language": "python",
   "name": "python3"
  },
  "language_info": {
   "codemirror_mode": {
    "name": "ipython",
    "version": 3
   },
   "file_extension": ".py",
   "mimetype": "text/x-python",
   "name": "python",
   "nbconvert_exporter": "python",
   "pygments_lexer": "ipython3",
   "version": "3.11.2"
  },
  "orig_nbformat": 4
 },
 "nbformat": 4,
 "nbformat_minor": 2
}
