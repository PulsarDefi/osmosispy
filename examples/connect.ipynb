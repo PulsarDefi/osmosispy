{
 "cells": [
  {
   "cell_type": "code",
   "execution_count": null,
   "metadata": {},
   "outputs": [],
   "source": [
    "# run this if you want to run the example from the examples folder without installing the package\n",
    "import sys\n",
    "sys.path.insert(0, \"../\")"
   ]
  },
  {
   "cell_type": "code",
   "execution_count": null,
   "metadata": {},
   "outputs": [],
   "source": [
    "# import the package\n",
    "import osmosispy\n",
    "from osmosispy import utils, pytypes\n",
    "from cosmos.base.v1beta1.coin_pb2 import Coin"
   ]
  },
  {
   "cell_type": "code",
   "execution_count": null,
   "metadata": {},
   "outputs": [],
   "source": [
    "# configure\n",
    "mnemonic_key = \"fat patch excite gold bubble large tunnel vote fine title hover junior advice cable ordinary column mass aunt trigger lucky hope animal abandon mansion\""
   ]
  },
  {
   "attachments": {},
   "cell_type": "markdown",
   "metadata": {},
   "source": [
    "## Prepare the account\n",
    "\n",
    "to start localnet clone the [osmosis-labs/osmosis](https://github.com/osmosis-labs/osmosis) repo and run the following command\n",
    "\n",
    "```bash\n",
    "make localnet-build\n",
    "make localnet-start\n",
    "```"
   ]
  },
  {
   "cell_type": "code",
   "execution_count": null,
   "metadata": {},
   "outputs": [],
   "source": [
    "# authorize in the localnet\n",
    "network = osmosispy.Network.localnet()\n",
    "trader = osmosispy.Sdk\n",
    "    .authorize(key=mnemonic_key)\n",
    "    .with_network(network)\n",
    "    .with_config(pytypes.TxConfig())\n",
    "\n",
    "# check the address\n",
    "print(trader.address)"
   ]
  },
  {
   "attachments": {},
   "cell_type": "markdown",
   "metadata": {},
   "source": [
    "## Check balances of the account"
   ]
  },
  {
   "cell_type": "code",
   "execution_count": null,
   "metadata": {},
   "outputs": [],
   "source": [
    "from osmosis_proto.proto.cosmos.bank.v1beta1 import (\n",
    "  query_pb2 as bank_query,\n",
    "  query_pb2_grpc as bank_query_grpc,\n",
    ")"
   ]
  },
  {
   "cell_type": "code",
   "execution_count": null,
   "metadata": {},
   "outputs": [],
   "source": [
    "stub_bank = bank_query_grpc.QueryStub(trader.query.chain_channel)\n",
    "result = utils.deserialize(\n",
    "    stub_bank.AllBalances(\n",
    "        bank_query.QueryAllBalancesRequest(address=trader.address)\n",
    "    )\n",
    ")\n",
    "\n",
    "print(result[\"balances\"])\n"
   ]
  },
  {
   "attachments": {},
   "cell_type": "markdown",
   "metadata": {},
   "source": [
    "## Query Pools"
   ]
  },
  {
   "cell_type": "code",
   "execution_count": null,
   "metadata": {},
   "outputs": [],
   "source": [
    "from osmosis_proto.proto.osmosis.gamm.v1beta1 import (\n",
    "  query_pb2 as gamm_query,\n",
    "  query_pb2_grpc as gamm_query_grpc,\n",
    ")"
   ]
  },
  {
   "cell_type": "code",
   "execution_count": null,
   "metadata": {},
   "outputs": [],
   "source": [
    "stub_gamm = gamm_query_grpc.QueryStub(trader.query.chain_channel)\n",
    "result = utils.deserialize(\n",
    "    stub_gamm.Pools(\n",
    "        gamm_query.QueryPoolsRequest()\n",
    "    )\n",
    ")\n",
    "\n",
    "print(result[\"pools\"])"
   ]
  },
  {
   "attachments": {},
   "cell_type": "markdown",
   "metadata": {},
   "source": [
    "## Create Pools"
   ]
  },
  {
   "cell_type": "code",
   "execution_count": null,
   "metadata": {},
   "outputs": [],
   "source": [
    "\n",
    "from osmosis_proto.proto.osmosis.gamm.pool_models.stableswap import (\n",
    "    tx_pb2 as stableswap_tx,\n",
    "    tx_pb2_grpc as stableswap_tx_grpc,\n",
    ")\n",
    "from osmosis.gamm.pool_models.stableswap.stableswap_pool_pb2 import PoolParams"
   ]
  },
  {
   "cell_type": "code",
   "execution_count": null,
   "metadata": {},
   "outputs": [],
   "source": [
    "pool_params = PoolParams(\n",
    "    swap_fee=\"1.0\",\n",
    "    exit_fee=\"1.0\",\n",
    ")\n",
    "\n",
    "msg = stableswap_tx.MsgCreateStableswapPool(\n",
    "    sender=trader.address,\n",
    "    pool_params=pool_params,\n",
    "    initial_pool_liquidity=[Coin(\"atom\", 100), Coin(\"osmo\", 100)],\n",
    "    scaling_factors=[1, 1],\n",
    "    future_pool_governor=\"\",\n",
    ")\n",
    "\n",
    "stub_stable_swap = stableswap_tx_grpc.MsgStub(trader.query.chain_channel)\n",
    "result = utils.deserialize(\n",
    "    stub_stable_swap.CreateStableswapPool(msg)\n",
    ")"
   ]
  },
  {
   "attachments": {},
   "cell_type": "markdown",
   "metadata": {},
   "source": [
    "## Query Locks"
   ]
  },
  {
   "cell_type": "code",
   "execution_count": null,
   "metadata": {},
   "outputs": [],
   "source": [
    "from osmosis_proto.proto.osmosis.lockup import (\n",
    "    query_pb2 as lockup_query,\n",
    "    query_pb2_grpc as lockup_query_grpc,\n",
    ")"
   ]
  },
  {
   "cell_type": "code",
   "execution_count": null,
   "metadata": {},
   "outputs": [],
   "source": [
    "# Get account locks\n",
    "\n",
    "stub_lockup = lockup_query_grpc.QueryStub(trader.query.chain_channel)\n",
    "result = utils.deserialize(\n",
    "    stub_lockup.AccountLockedDuration(\n",
    "        # pass owner address string to query\n",
    "        lockup_query.AccountLockedDurationRequest(owner=trader.address)\n",
    "    )\n",
    ")\n",
    "\n",
    "print(result[\"locks\"])"
   ]
  },
  {
   "cell_type": "code",
   "execution_count": null,
   "metadata": {},
   "outputs": [],
   "source": [
    "# Lock by ID\n",
    "\n",
    "stub_lockup = lockup_query_grpc.QueryStub(trader.query.chain_channel)\n",
    "result = utils.deserialize(\n",
    "    stub_lockup.LockedByID(\n",
    "        # pass owner address string to query\n",
    "        lockup_query.LockedRequest(lock_id=123)\n",
    "    )\n",
    ")\n",
    "\n",
    "print(result)"
   ]
  }
 ],
 "metadata": {
  "kernelspec": {
   "display_name": ".venv",
   "language": "python",
   "name": "python3"
  },
  "language_info": {
   "codemirror_mode": {
    "name": "ipython",
    "version": 3
   },
   "file_extension": ".py",
   "mimetype": "text/x-python",
   "name": "python",
   "nbconvert_exporter": "python",
   "pygments_lexer": "ipython3",
   "version": "3.11.2"
  },
  "orig_nbformat": 4
 },
 "nbformat": 4,
 "nbformat_minor": 2
}
