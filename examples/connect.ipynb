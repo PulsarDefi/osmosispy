{
 "cells": [
  {
   "cell_type": "markdown",
   "metadata": {},
   "source": []
  },
  {
   "cell_type": "code",
   "execution_count": 1,
   "metadata": {},
   "outputs": [],
   "source": [
    "# run this if you want to run the example from the examples folder without installing the package\n",
    "import sys\n",
    "sys.path.insert(0, \"../\")"
   ]
  },
  {
   "cell_type": "code",
   "execution_count": 2,
   "metadata": {},
   "outputs": [],
   "source": [
    "import osmosispy"
   ]
  },
  {
   "cell_type": "code",
   "execution_count": 3,
   "metadata": {},
   "outputs": [],
   "source": [
    "# configure\n",
    "mnemonic_key = \"fat patch excite gold bubble large tunnel vote fine title hover junior advice cable ordinary column mass aunt trigger lucky hope animal abandon mansion\""
   ]
  },
  {
   "cell_type": "code",
   "execution_count": 4,
   "metadata": {},
   "outputs": [
    {
     "name": "stdout",
     "output_type": "stream",
     "text": [
      "osmo1jggt8pcj2d8m9n62luytf8sdncj5uxfs3su2my\n"
     ]
    }
   ],
   "source": [
    "# authorize in the localnet\n",
    "# to start localnet clone the osmosis repo and run `make localnet-build` and `make localnet-start`\n",
    "\n",
    "network = osmosispy.Network.localnet()\n",
    "\n",
    "trader = osmosispy.Sdk.authorize(key=mnemonic_key).with_network(network)\n",
    "\n",
    "print(trader.address)"
   ]
  },
  {
   "cell_type": "code",
   "execution_count": 5,
   "metadata": {},
   "outputs": [
    {
     "name": "stdout",
     "output_type": "stream",
     "text": [
      "[]\n"
     ]
    }
   ],
   "source": [
    "# check the balance\n",
    "# you can add tokens to your address here: https://faucet.osmosis.zone/#/\n",
    "from osmosispy import utils\n",
    "from osmosis_proto.proto.cosmos.bank.v1beta1 import query_pb2 as bank_query\n",
    "from osmosis_proto.proto.cosmos.bank.v1beta1 import query_pb2_grpc as bank_query_grpc\n",
    "\n",
    "stubBank = bank_query_grpc.QueryStub(trader.query.chain_channel)\n",
    "\n",
    "result = utils.deserialize(\n",
    "    stubBank.AllBalances(\n",
    "        bank_query.QueryAllBalancesRequest(address=trader.address)\n",
    "    )\n",
    ")\n",
    "\n",
    "print(result[\"balances\"])\n"
   ]
  }
 ],
 "metadata": {
  "kernelspec": {
   "display_name": ".venv",
   "language": "python",
   "name": "python3"
  },
  "language_info": {
   "codemirror_mode": {
    "name": "ipython",
    "version": 3
   },
   "file_extension": ".py",
   "mimetype": "text/x-python",
   "name": "python",
   "nbconvert_exporter": "python",
   "pygments_lexer": "ipython3",
   "version": "3.11.2"
  },
  "orig_nbformat": 4
 },
 "nbformat": 4,
 "nbformat_minor": 2
}
