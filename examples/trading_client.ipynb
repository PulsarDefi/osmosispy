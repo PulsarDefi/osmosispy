{
 "cells": [
  {
   "attachments": {},
   "cell_type": "markdown",
   "metadata": {},
   "source": [
    "# TradingClient example\n",
    "\n",
    "## Prepare client"
   ]
  },
  {
   "cell_type": "code",
   "execution_count": null,
   "metadata": {},
   "outputs": [],
   "source": [
    "# run this if you want to run the example from the examples folder without installing the package\n",
    "import sys\n",
    "sys.path.insert(0, \"../\")"
   ]
  },
  {
   "cell_type": "code",
   "execution_count": null,
   "metadata": {},
   "outputs": [],
   "source": [
    "# import the package\n",
    "from osmosispy.trading_client import BinanceClient, ITradingClient\n",
    "import time"
   ]
  },
  {
   "attachments": {},
   "cell_type": "markdown",
   "metadata": {},
   "source": [
    "don't forget to set your API key and secret to the environment variables\n",
    "`BINANCE_API_KEY` and `BINANCE_API_SECRET` respectively.\n",
    "\n",
    "```bash\n",
    "export BINANCE_API_KEY=qwerty\n",
    "export BINANCE_API_SECRET=asdfgh\n",
    "```"
   ]
  },
  {
   "cell_type": "code",
   "execution_count": null,
   "metadata": {},
   "outputs": [],
   "source": [
    "# create a client from the environment variables\n",
    "client = BinanceClient.from_env()"
   ]
  },
  {
   "attachments": {},
   "cell_type": "markdown",
   "metadata": {},
   "source": [
    "Alternatively, you can pass them to the client constructor."
   ]
  },
  {
   "cell_type": "code",
   "execution_count": null,
   "metadata": {},
   "outputs": [],
   "source": [
    "# create a client from the constructor\n",
    "client: ITradingClient = BinanceClient(\n",
    "    api_key=\"qwerty\",\n",
    "    api_secret=\"asdfgh\",\n",
    ")"
   ]
  },
  {
   "attachments": {},
   "cell_type": "markdown",
   "metadata": {},
   "source": [
    "## Get osmosis trading info"
   ]
  },
  {
   "cell_type": "code",
   "execution_count": null,
   "metadata": {},
   "outputs": [],
   "source": [
    "fee = client.get_trading_fee(\"USDT\")\n",
    "# fee object will contain the following fields:\n",
    "# maker_commision: float\n",
    "# taker_commision: float\n",
    "\n",
    "print(f\"Trading fee: {fee}\")"
   ]
  },
  {
   "cell_type": "code",
   "execution_count": null,
   "metadata": {},
   "outputs": [],
   "source": [
    "price_in_usdt = client.get_price(price_in_symbol = \"USDT\")\n",
    "\n",
    "print(f\"Current price in USDT:\\n{price_in_usdt}\")"
   ]
  },
  {
   "attachments": {},
   "cell_type": "markdown",
   "metadata": {},
   "source": [
    "## Listen trades"
   ]
  },
  {
   "cell_type": "code",
   "execution_count": null,
   "metadata": {},
   "outputs": [],
   "source": [
    "# create trade callback\n",
    "def trade_callback(msg):\n",
    "    print(f\"trade: {msg}\")\n",
    "\n",
    "# start listening to trades\n",
    "client.listen_trades(cb=trade_callback)"
   ]
  },
  {
   "cell_type": "code",
   "execution_count": null,
   "metadata": {},
   "outputs": [],
   "source": [
    "# listen for 60 seconds\n",
    "time.sleep(60)"
   ]
  },
  {
   "cell_type": "code",
   "execution_count": null,
   "metadata": {},
   "outputs": [],
   "source": [
    "# stop listening to trades\n",
    "client.stop_ws()"
   ]
  }
 ],
 "metadata": {
  "kernelspec": {
   "display_name": ".venv",
   "language": "python",
   "name": "python3"
  },
  "language_info": {
   "codemirror_mode": {
    "name": "ipython",
    "version": 3
   },
   "file_extension": ".py",
   "mimetype": "text/x-python",
   "name": "python",
   "nbconvert_exporter": "python",
   "pygments_lexer": "ipython3",
   "version": "3.11.2"
  },
  "orig_nbformat": 4
 },
 "nbformat": 4,
 "nbformat_minor": 2
}
