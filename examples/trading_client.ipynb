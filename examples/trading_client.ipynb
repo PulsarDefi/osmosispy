{
 "cells": [
  {
   "attachments": {},
   "cell_type": "markdown",
   "metadata": {},
   "source": [
    "# TradingClient example\n",
    "\n",
    "## Prepare client"
   ]
  },
  {
   "cell_type": "code",
   "execution_count": 1,
   "metadata": {},
   "outputs": [],
   "source": [
    "# run this if you want to run the example from the examples folder without installing the package\n",
    "import sys\n",
    "sys.path.insert(0, \"../\")"
   ]
  },
  {
   "cell_type": "code",
   "execution_count": 2,
   "metadata": {},
   "outputs": [],
   "source": [
    "# import the packages\n",
    "import osmosispy\n",
    "from osmosispy import pytypes\n",
    "from osmosispy.trading_client import BinanceTradingClient, TradeData\n",
    "import time"
   ]
  },
  {
   "attachments": {},
   "cell_type": "markdown",
   "metadata": {},
   "source": [
    "don't forget to set your API key and secret to the environment variables\n",
    "`BINANCE_API_KEY` and `BINANCE_API_SECRET` respectively. Use [this article](https://www.binance.com/en/support/faq/how-to-create-api-360002502072) to get api keys\n",
    "\n",
    "```bash\n",
    "export BINANCE_API_KEY=qwerty\n",
    "export BINANCE_API_SECRET=asdfgh\n",
    "```"
   ]
  },
  {
   "cell_type": "code",
   "execution_count": 3,
   "metadata": {},
   "outputs": [],
   "source": [
    "# Create a binance trading client\n",
    "binance_client = BinanceTradingClient.from_env()\n",
    "\n",
    "# # Alternatively, you can pass them to the client constructor.\n",
    "# binance_client = BinanceTradingClient(\n",
    "#     api_key=\"qwerty\",\n",
    "#     api_secret=\"asdfgh\",\n",
    "# )"
   ]
  },
  {
   "attachments": {},
   "cell_type": "markdown",
   "metadata": {},
   "source": [
    "## Get OSMO USDT trading info"
   ]
  },
  {
   "cell_type": "code",
   "execution_count": 6,
   "metadata": {},
   "outputs": [
    {
     "name": "stdout",
     "output_type": "stream",
     "text": [
      "Trading fee: TradingFee(maker_commision=0.001, taker_commision=0.001)\n"
     ]
    }
   ],
   "source": [
    "fee = binance_client.get_trading_fee(\"OSMOUSDT\")\n",
    "# fee object will contain the following fields:\n",
    "# maker_commision: float\n",
    "# taker_commision: float\n",
    "\n",
    "print(f\"Trading fee: {fee}\")"
   ]
  },
  {
   "cell_type": "code",
   "execution_count": 7,
   "metadata": {},
   "outputs": [
    {
     "name": "stdout",
     "output_type": "stream",
     "text": [
      "{'symbol': 'OSMOUSDT', 'price': '0.79000000'}\n",
      "Current price in USDT:\n",
      "denom: \"USDT\"\n",
      "amount: \"0.79000000\"\n",
      "\n"
     ]
    }
   ],
   "source": [
    "price_in_usdt = binance_client.get_price(symbol = \"OSMOUSDT\")\n",
    "\n",
    "print(f\"Current price in USDT:\\n{price_in_usdt}\")"
   ]
  },
  {
   "attachments": {},
   "cell_type": "markdown",
   "metadata": {},
   "source": [
    "## Compare OSMO prices on binance and Osmosis\n",
    "Simple example of comparing OSMO prices on binance and Osmosis."
   ]
  },
  {
   "cell_type": "code",
   "execution_count": 8,
   "metadata": {},
   "outputs": [],
   "source": [
    "from osmosis_proto.proto.osmosis.gamm.v1beta1 import (\n",
    "    query_pb2 as gamm_query,\n",
    "    query_pb2_grpc as gamm_query_grpc,\n",
    ")\n",
    "from osmosispy import Sdk, Network, utils"
   ]
  },
  {
   "cell_type": "code",
   "execution_count": 9,
   "metadata": {},
   "outputs": [
    {
     "name": "stdout",
     "output_type": "stream",
     "text": [
      "osmo1phaxpevm5wecex2jyaqty2a4v02qj7qmlmzk5a\n"
     ]
    }
   ],
   "source": [
    "# prepare the osmosis client\n",
    "mnemonic_key = \"satisfy adjust timber high purchase tuition stool faith fine install that you unaware feed domain license impose boss human eager hat rent enjoy dawn\"\n",
    "\n",
    "network = Network.mainnet()\n",
    "trader = Sdk.authorize(key=mnemonic_key).with_network(network).with_config(pytypes.TxConfig())\n",
    "\n",
    "stub_gamm = gamm_query_grpc.QueryStub(trader.query.chain_channel)\n",
    "\n",
    "# check the address\n",
    "print(trader.address)"
   ]
  },
  {
   "cell_type": "code",
   "execution_count": 10,
   "metadata": {},
   "outputs": [
    {
     "name": "stdout",
     "output_type": "stream",
     "text": [
      "osmosis pool: {'address': 'osmo10venxtvdglryxkdmvjr8wa6n3ugja40rewddlxtg0pr30vmkf47sllgslg', 'id': 678, 'pool_params': {'swap_fee': 0.002, 'exit_fee': 0.0, 'smooth_weight_change_params': {'start_time': {'seconds': 0, 'nanos': 0}, 'duration': {'seconds': 0, 'nanos': 0}, 'initial_pool_weights': [], 'target_pool_weights': []}}, 'future_pool_governor': '24h', 'total_shares': {'denom': 'gamm/pool/678', 'amount': 1914364374789231521263681}, 'pool_assets': [{'token': {'denom': 'ibc/D189335C6E4A68B513C10AB227BF1C1D38C746766278BA3EEB4FB14124F1D858', 'amount': 8200195926141}, 'weight': 536870912000000}, {'token': {'denom': 'uosmo', 'amount': 10388969285133}, 'weight': 536870912000000}], 'total_weight': 1073741824000000}\n"
     ]
    }
   ],
   "source": [
    "\n",
    "stub_gamm = gamm_query_grpc.QueryStub(trader.query.chain_channel)\n",
    "pool_raw_data = utils.deserialize(\n",
    "    stub_gamm.Pool(\n",
    "        # checking this pool https://app.osmosis.zone/pool/678\n",
    "        gamm_query.QueryPoolRequest(pool_id=678)\n",
    "    )\n",
    ")\n",
    "\n",
    "osmosis_pool = utils.deserialize_pool(pool_raw_data[\"pool\"])\n",
    "\n",
    "print(f\"osmosis pool: {osmosis_pool}\")"
   ]
  },
  {
   "cell_type": "code",
   "execution_count": 11,
   "metadata": {},
   "outputs": [
    {
     "name": "stdout",
     "output_type": "stream",
     "text": [
      "===== OSMO USDT trades =====\n",
      "binance price: 0.79000000\n",
      "binance quantity: 51.00000000\n",
      "osmosis price: 0.789317560000000000\n",
      "===== OSMO USDT trades =====\n",
      "binance price: 0.79000000\n",
      "binance quantity: 21.00000000\n",
      "osmosis price: 0.789317560000000000\n",
      "===== OSMO USDT trades =====\n",
      "binance price: 0.79000000\n",
      "binance quantity: 16.35000000\n",
      "osmosis price: 0.789317560000000000\n",
      "===== OSMO USDT trades =====\n",
      "binance price: 0.79000000\n",
      "binance quantity: 25.45000000\n",
      "osmosis price: 0.789317560000000000\n"
     ]
    }
   ],
   "source": [
    "def get_osmosis_trading_price(pool):\n",
    "    price_data = utils.deserialize(\n",
    "        stub_gamm.SpotPrice(\n",
    "            gamm_query.QuerySpotPriceRequest(\n",
    "                pool_id=pool[\"id\"],\n",
    "                base_asset_denom=pool[\"pool_assets\"][0][\"token\"][\"denom\"],\n",
    "                quote_asset_denom=pool[\"pool_assets\"][1][\"token\"][\"denom\"],\n",
    "            )\n",
    "        )\n",
    "    )\n",
    "\n",
    "    return price_data[\"spot_price\"]\n",
    "\n",
    "# create trade callback\n",
    "def trade_callback(trade: TradeData):\n",
    "    print(\"===== OSMO USDT trades =====\")\n",
    "    print(f\"binance price: {trade.price.amount}\\nbinance quantity: {trade.quantity.amount}\")\n",
    "    \n",
    "    osmosis_pool_price = get_osmosis_trading_price(osmosis_pool);\n",
    "    print(f\"osmosis price: {osmosis_pool_price}\")\n",
    "\n",
    "# start listening to trades\n",
    "binance_client.listen_trades(cb=trade_callback, symbol=\"OSMOUSDT\")"
   ]
  },
  {
   "cell_type": "code",
   "execution_count": 12,
   "metadata": {},
   "outputs": [
    {
     "name": "stdout",
     "output_type": "stream",
     "text": [
      "===== OSMO USDT trades =====\n",
      "binance price: 0.79100000\n",
      "binance quantity: 25.31000000\n",
      "osmosis price: 0.789316590000000000\n"
     ]
    },
    {
     "ename": "KeyboardInterrupt",
     "evalue": "",
     "output_type": "error",
     "traceback": [
      "\u001b[0;31m---------------------------------------------------------------------------\u001b[0m",
      "\u001b[0;31mKeyboardInterrupt\u001b[0m                         Traceback (most recent call last)",
      "Cell \u001b[0;32mIn[12], line 2\u001b[0m\n\u001b[1;32m      1\u001b[0m \u001b[39m# listen for 60 seconds\u001b[39;00m\n\u001b[0;32m----> 2\u001b[0m time\u001b[39m.\u001b[39;49msleep(\u001b[39m60\u001b[39;49m)\n",
      "\u001b[0;31mKeyboardInterrupt\u001b[0m: "
     ]
    },
    {
     "name": "stdout",
     "output_type": "stream",
     "text": [
      "===== OSMO USDT trades =====\n",
      "binance price: 0.79000000\n",
      "binance quantity: 25.31000000\n",
      "osmosis price: 0.789310220000000000\n",
      "===== OSMO USDT trades =====\n",
      "binance price: 0.79000000\n",
      "binance quantity: 67.51000000\n",
      "osmosis price: 0.789310110000000000\n",
      "===== OSMO USDT trades =====\n",
      "binance price: 0.79000000\n",
      "binance quantity: 35.73000000\n",
      "osmosis price: 0.789310110000000000\n",
      "===== OSMO USDT trades =====\n",
      "binance price: 0.79000000\n",
      "binance quantity: 71.59000000\n",
      "osmosis price: 0.789302940000000000\n",
      "===== OSMO USDT trades =====\n",
      "binance price: 0.79000000\n",
      "binance quantity: 113.15000000\n",
      "osmosis price: 0.789302940000000000\n",
      "===== OSMO USDT trades =====\n",
      "binance price: 0.79000000\n",
      "binance quantity: 457.17000000\n",
      "osmosis price: 0.789302940000000000\n",
      "===== OSMO USDT trades =====\n",
      "binance price: 0.79100000\n",
      "binance quantity: 139.24000000\n",
      "osmosis price: 0.789302940000000000\n",
      "===== OSMO USDT trades =====\n",
      "binance price: 0.79100000\n",
      "binance quantity: 37.92000000\n",
      "osmosis price: 0.789302950000000000\n",
      "===== OSMO USDT trades =====\n",
      "binance price: 0.79100000\n",
      "binance quantity: 372.92000000\n",
      "osmosis price: 0.789273310000000000\n",
      "===== OSMO USDT trades =====\n",
      "binance price: 0.79000000\n",
      "binance quantity: 18.51000000\n",
      "osmosis price: 0.789420170000000000\n",
      "===== OSMO USDT trades =====\n",
      "binance price: 0.79000000\n",
      "binance quantity: 1931.41000000\n",
      "osmosis price: 0.789420170000000000\n",
      "===== OSMO USDT trades =====\n",
      "binance price: 0.79000000\n",
      "binance quantity: 1895.00000000\n",
      "osmosis price: 0.789420170000000000\n",
      "===== OSMO USDT trades =====\n",
      "binance price: 0.79000000\n",
      "binance quantity: 245.00000000\n",
      "osmosis price: 0.789420170000000000\n",
      "===== OSMO USDT trades =====\n",
      "binance price: 0.79000000\n",
      "binance quantity: 1314.88000000\n",
      "osmosis price: 0.789420170000000000\n",
      "===== OSMO USDT trades =====\n",
      "binance price: 0.79000000\n",
      "binance quantity: 95.19000000\n",
      "osmosis price: 0.789354260000000000\n",
      "===== OSMO USDT trades =====\n",
      "binance price: 0.78900000\n",
      "binance quantity: 25.34000000\n",
      "osmosis price: 0.789354260000000000\n",
      "===== OSMO USDT trades =====\n",
      "binance price: 0.79000000\n",
      "binance quantity: 59.01000000\n",
      "osmosis price: 0.789354260000000000\n",
      "===== OSMO USDT trades =====\n",
      "binance price: 0.79000000\n",
      "binance quantity: 787.99000000\n",
      "osmosis price: 0.789354260000000000\n",
      "===== OSMO USDT trades =====\n",
      "binance price: 0.78900000\n",
      "binance quantity: 95.00000000\n",
      "osmosis price: 0.789354260000000000\n",
      "===== OSMO USDT trades =====\n",
      "binance price: 0.79000000\n",
      "binance quantity: 35.79000000\n",
      "osmosis price: 0.788812180000000000\n",
      "===== OSMO USDT trades =====\n",
      "binance price: 0.78900000\n",
      "binance quantity: 41.87000000\n",
      "osmosis price: 0.788784330000000000\n",
      "===== OSMO USDT trades =====\n",
      "binance price: 0.78900000\n",
      "binance quantity: 83.67000000\n",
      "osmosis price: 0.788589210000000000\n",
      "===== OSMO USDT trades =====\n",
      "binance price: 0.78900000\n",
      "binance quantity: 570.78000000\n",
      "osmosis price: 0.788589210000000000\n",
      "===== OSMO USDT trades =====\n",
      "binance price: 0.78800000\n",
      "binance quantity: 126.74000000\n",
      "osmosis price: 0.788589210000000000\n",
      "===== OSMO USDT trades =====\n",
      "binance price: 0.78800000\n",
      "binance quantity: 69.14000000\n",
      "osmosis price: 0.788589210000000000\n",
      "===== OSMO USDT trades =====\n",
      "binance price: 0.78800000\n",
      "binance quantity: 56.70000000\n",
      "osmosis price: 0.788589210000000000\n",
      "===== OSMO USDT trades =====\n",
      "binance price: 0.78800000\n",
      "binance quantity: 97.42000000\n",
      "osmosis price: 0.788589210000000000\n",
      "===== OSMO USDT trades =====\n",
      "binance price: 0.78900000\n",
      "binance quantity: 25.34000000\n",
      "osmosis price: 0.788589210000000000\n",
      "===== OSMO USDT trades =====\n",
      "binance price: 0.78800000\n",
      "binance quantity: 101.93000000\n",
      "osmosis price: 0.788589210000000000\n",
      "===== OSMO USDT trades =====\n",
      "binance price: 0.78800000\n",
      "binance quantity: 87.11000000\n",
      "osmosis price: 0.788515990000000000\n",
      "===== OSMO USDT trades =====\n",
      "binance price: 0.78800000\n",
      "binance quantity: 115.98000000\n",
      "osmosis price: 0.788515990000000000\n",
      "===== OSMO USDT trades =====\n",
      "binance price: 0.78800000\n",
      "binance quantity: 73.13000000\n",
      "osmosis price: 0.788515990000000000\n"
     ]
    }
   ],
   "source": [
    "# listen for 60 seconds\n",
    "time.sleep(60)"
   ]
  },
  {
   "cell_type": "code",
   "execution_count": null,
   "metadata": {},
   "outputs": [],
   "source": [
    "# stop listening to trades\n",
    "binance_client.stop_listeners()"
   ]
  }
 ],
 "metadata": {
  "kernelspec": {
   "display_name": ".venv",
   "language": "python",
   "name": "python3"
  },
  "language_info": {
   "codemirror_mode": {
    "name": "ipython",
    "version": 3
   },
   "file_extension": ".py",
   "mimetype": "text/x-python",
   "name": "python",
   "nbconvert_exporter": "python",
   "pygments_lexer": "ipython3",
   "version": "3.11.2"
  },
  "orig_nbformat": 4
 },
 "nbformat": 4,
 "nbformat_minor": 2
}
